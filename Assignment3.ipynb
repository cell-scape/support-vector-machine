{
 "cells": [
  {
   "cell_type": "markdown",
   "id": "democratic-microphone",
   "metadata": {},
   "source": [
    "# Assignment 3\n",
    "## CIS 666, Spring 2021\n",
    "\n",
    "---\n",
    "\n",
    "### Bradley Dowling\n",
    "### CSU ID: 2657649"
   ]
  },
  {
   "cell_type": "code",
   "execution_count": 1,
   "id": "governmental-interim",
   "metadata": {},
   "outputs": [],
   "source": [
    "import numpy as np\n",
    "from sklearn.svm import SVC\n",
    "from sklearn.pipeline import make_pipeline\n",
    "from sklearn.preprocessing import StandardScaler\n",
    "from sklearn.metrics import confusion_matrix\n",
    "from mnist import MNIST"
   ]
  },
  {
   "cell_type": "code",
   "execution_count": 2,
   "id": "adult-flavor",
   "metadata": {},
   "outputs": [],
   "source": [
    "clf = make_pipeline(StandardScaler(), SVC(kernel='linear'))\n",
    "mndata = MNIST('./emnist_data')\n",
    "mndata.gz = True\n",
    "mndata.select_emnist('digits')\n",
    "images, labels = mndata.load_training()"
   ]
  },
  {
   "cell_type": "markdown",
   "id": "dried-amino",
   "metadata": {},
   "source": [
    "Part 1:\n",
    "---\n",
    "Train Linear SVM on 1000 MNIST digits and test against 100"
   ]
  },
  {
   "cell_type": "code",
   "execution_count": 3,
   "id": "consistent-feeding",
   "metadata": {},
   "outputs": [
    {
     "data": {
      "text/plain": [
       "array([[ 8,  0,  0,  0,  0,  0,  0,  0,  0,  0],\n",
       "       [ 0,  6,  1,  0,  0,  0,  0,  0,  0,  0],\n",
       "       [ 0,  0,  7,  0,  0,  0,  0,  0,  1,  0],\n",
       "       [ 0,  0,  0, 10,  0,  0,  0,  0,  0,  0],\n",
       "       [ 1,  0,  0,  0,  9,  0,  0,  0,  0,  0],\n",
       "       [ 0,  0,  0,  1,  0, 12,  0,  0,  0,  0],\n",
       "       [ 0,  0,  0,  0,  0,  0,  9,  0,  0,  0],\n",
       "       [ 0,  0,  0,  0,  1,  0,  0, 14,  0,  1],\n",
       "       [ 0,  0,  1,  0,  0,  0,  1,  0,  7,  1],\n",
       "       [ 0,  0,  1,  0,  0,  0,  0,  0,  0,  8]])"
      ]
     },
     "execution_count": 3,
     "metadata": {},
     "output_type": "execute_result"
    }
   ],
   "source": [
    "testX = [np.array(image).reshape(1, -1) for image in images[2000:2100]]\n",
    "clf.fit(images[:1000], labels[:1000])\n",
    "predicted = [int(clf.predict(x)) for x in testX]\n",
    "true = list(int(y) for y in labels[2000:2100])\n",
    "r1 = [x == y for x, y in zip(predicted, true)]\n",
    "\n",
    "confusion_matrix(true, predicted)"
   ]
  },
  {
   "cell_type": "markdown",
   "id": "front-personality",
   "metadata": {},
   "source": [
    "Part 2:\n",
    "---\n",
    "Train Linear SVM on 10000 MNIST digits and test against 100"
   ]
  },
  {
   "cell_type": "code",
   "execution_count": 4,
   "id": "scenic-cocktail",
   "metadata": {},
   "outputs": [
    {
     "data": {
      "text/plain": [
       "array([[12,  0,  0,  0,  1,  0,  0,  0,  0,  0],\n",
       "       [ 0,  7,  0,  0,  0,  0,  0,  0,  0,  0],\n",
       "       [ 1,  0, 10,  0,  0,  0,  0,  0,  0,  0],\n",
       "       [ 0,  0,  0, 10,  0,  0,  0,  0,  0,  0],\n",
       "       [ 0,  0,  0,  0, 11,  0,  0,  0,  0,  0],\n",
       "       [ 0,  0,  1,  0,  0, 10,  0,  0,  0,  0],\n",
       "       [ 0,  0,  0,  0,  0,  0,  6,  0,  0,  0],\n",
       "       [ 0,  0,  0,  0,  1,  0,  0, 12,  0,  0],\n",
       "       [ 0,  0,  0,  0,  0,  1,  1,  0,  9,  0],\n",
       "       [ 0,  0,  0,  0,  1,  0,  0,  0,  0,  6]])"
      ]
     },
     "execution_count": 4,
     "metadata": {},
     "output_type": "execute_result"
    }
   ],
   "source": [
    "testX = [np.array(image).reshape(1, -1) for image in images[20000:20100]]\n",
    "clf.fit(images[:10000], labels[:10000])\n",
    "predicted = [int(clf.predict(x)) for x in testX]\n",
    "true = list(int(y) for y in labels[20000:20100])\n",
    "r2 = [x == y for x, y in zip(predicted, true)]\n",
    "\n",
    "confusion_matrix(true, predicted)"
   ]
  },
  {
   "cell_type": "markdown",
   "id": "exempt-david",
   "metadata": {},
   "source": [
    "Part 3:\n",
    "---\n",
    "Train Linear SVM on 10000 MNIST digits and test against 1000"
   ]
  },
  {
   "cell_type": "code",
   "execution_count": 5,
   "id": "composite-armstrong",
   "metadata": {},
   "outputs": [
    {
     "data": {
      "text/plain": [
       "array([[ 95,   1,   0,   0,   1,   0,   1,   0,   0,   0],\n",
       "       [  0, 103,   1,   2,   0,   0,   0,   0,   0,   0],\n",
       "       [  2,   1, 100,   4,   4,   0,   1,   0,   2,   0],\n",
       "       [  1,   1,   3,  87,   0,   1,   0,   1,   4,   0],\n",
       "       [  1,   0,   0,   0,  98,   0,   1,   1,   1,   0],\n",
       "       [  1,   1,   3,   4,   0,  87,   0,   0,   1,   1],\n",
       "       [  0,   0,   1,   0,   0,   0,  76,   0,   0,   0],\n",
       "       [  0,   0,   0,   0,   1,   0,   0,  91,   1,   2],\n",
       "       [  1,   1,   2,   3,   1,   2,   1,   0,  98,   0],\n",
       "       [  0,   0,   0,   0,   6,   0,   0,   4,   2,  91]])"
      ]
     },
     "execution_count": 5,
     "metadata": {},
     "output_type": "execute_result"
    }
   ],
   "source": [
    "testX = [np.array(image).reshape(1, -1) for image in images[20000:21000]]\n",
    "clf.fit(images[:10000], labels[:10000])\n",
    "predicted = [int(clf.predict(x)) for x in testX]\n",
    "true = list(int(y) for y in labels[20000:21000])\n",
    "r3 = [x == y for x, y in zip(predicted, true)]\n",
    "\n",
    "confusion_matrix(true, predicted)"
   ]
  },
  {
   "cell_type": "markdown",
   "id": "unavailable-advocate",
   "metadata": {
    "tags": []
   },
   "source": [
    "Part 5:\n",
    "---\n",
    "RBF Kernel"
   ]
  },
  {
   "cell_type": "code",
   "execution_count": 6,
   "id": "placed-matter",
   "metadata": {},
   "outputs": [
    {
     "data": {
      "text/plain": [
       "array([[ 96,   0,   1,   0,   1,   0,   0,   0,   0,   0],\n",
       "       [  0, 103,   1,   0,   0,   0,   0,   1,   1,   0],\n",
       "       [  1,   0, 109,   1,   1,   0,   0,   0,   2,   0],\n",
       "       [  0,   0,   4,  89,   0,   1,   0,   1,   3,   0],\n",
       "       [  0,   1,   1,   0,  98,   0,   0,   1,   0,   1],\n",
       "       [  0,   0,   2,   1,   0,  93,   0,   0,   2,   0],\n",
       "       [  0,   0,   0,   0,   0,   0,  77,   0,   0,   0],\n",
       "       [  0,   0,   0,   0,   0,   0,   0,  92,   0,   3],\n",
       "       [  0,   0,   3,   1,   0,   3,   1,   0, 100,   1],\n",
       "       [  0,   0,   1,   0,   1,   0,   0,   1,   1,  99]])"
      ]
     },
     "execution_count": 6,
     "metadata": {},
     "output_type": "execute_result"
    }
   ],
   "source": [
    "rbf = make_pipeline(StandardScaler(), SVC(kernel='rbf'))\n",
    "testX = [np.array(image).reshape(1, -1) for image in images[20000:21000]]\n",
    "rbf.fit(images[:10000], labels[:10000])\n",
    "predicted = [int(rbf.predict(x)) for x in testX]\n",
    "true = list(int(y) for y in labels[20000:21000])\n",
    "r5r = [x == y for x, y in zip(predicted, true)]\n",
    "\n",
    "confusion_matrix(true, predicted)"
   ]
  },
  {
   "cell_type": "markdown",
   "id": "supreme-hazard",
   "metadata": {},
   "source": [
    "Polynomial Kernel"
   ]
  },
  {
   "cell_type": "code",
   "execution_count": 7,
   "id": "burning-gender",
   "metadata": {},
   "outputs": [
    {
     "data": {
      "text/plain": [
       "array([[ 94,   0,   0,   0,   1,   0,   0,   0,   3,   0],\n",
       "       [  0, 102,   1,   0,   0,   0,   0,   1,   1,   1],\n",
       "       [  1,   0, 100,   1,   1,   1,   0,   1,   9,   0],\n",
       "       [  0,   0,   2,  90,   0,   1,   0,   1,   3,   1],\n",
       "       [  0,   1,   0,   0,  99,   0,   0,   1,   0,   1],\n",
       "       [  0,   0,   0,   2,   1,  95,   0,   0,   0,   0],\n",
       "       [  0,   1,   0,   0,   0,   1,  75,   0,   0,   0],\n",
       "       [  0,   0,   0,   0,   1,   0,   0,  91,   0,   3],\n",
       "       [  1,   0,   1,   0,   1,   2,   0,   0, 103,   1],\n",
       "       [  0,   0,   0,   0,   1,   0,   0,   0,   1, 101]])"
      ]
     },
     "execution_count": 7,
     "metadata": {},
     "output_type": "execute_result"
    }
   ],
   "source": [
    "poly = make_pipeline(StandardScaler(), SVC(kernel='poly'))\n",
    "testX = [np.array(image).reshape(1, -1) for image in images[20000:21000]]\n",
    "poly.fit(images[:10000], labels[:10000])\n",
    "predicted = [int(poly.predict(x)) for x in testX]\n",
    "true = list(int(y) for y in labels[20000:21000])\n",
    "r5p = [x == y for x, y in zip(predicted, true)]\n",
    "\n",
    "confusion_matrix(true, predicted)"
   ]
  },
  {
   "cell_type": "markdown",
   "id": "greenhouse-sapphire",
   "metadata": {},
   "source": [
    "Sigmoid Kernel"
   ]
  },
  {
   "cell_type": "code",
   "execution_count": 8,
   "id": "arranged-david",
   "metadata": {},
   "outputs": [
    {
     "data": {
      "text/plain": [
       "array([[ 94,   0,   0,   0,   1,   0,   0,   0,   3,   0],\n",
       "       [  0, 102,   1,   0,   0,   0,   0,   1,   1,   1],\n",
       "       [  1,   0, 100,   1,   1,   1,   0,   1,   9,   0],\n",
       "       [  0,   0,   2,  90,   0,   1,   0,   1,   3,   1],\n",
       "       [  0,   1,   0,   0,  99,   0,   0,   1,   0,   1],\n",
       "       [  0,   0,   0,   2,   1,  95,   0,   0,   0,   0],\n",
       "       [  0,   1,   0,   0,   0,   1,  75,   0,   0,   0],\n",
       "       [  0,   0,   0,   0,   1,   0,   0,  91,   0,   3],\n",
       "       [  1,   0,   1,   0,   1,   2,   0,   0, 103,   1],\n",
       "       [  0,   0,   0,   0,   1,   0,   0,   0,   1, 101]])"
      ]
     },
     "execution_count": 8,
     "metadata": {},
     "output_type": "execute_result"
    }
   ],
   "source": [
    "sigmoid = make_pipeline(StandardScaler(), SVC(kernel='poly'))\n",
    "testX = [np.array(image).reshape(1, -1) for image in images[20000:21000]]\n",
    "sigmoid.fit(images[:10000], labels[:10000])\n",
    "predicted = [int(sigmoid.predict(x)) for x in testX]\n",
    "true = list(int(y) for y in labels[20000:21000])\n",
    "r5s = [x == y for x, y in zip(predicted, true)]\n",
    "\n",
    "confusion_matrix(true, predicted)"
   ]
  },
  {
   "cell_type": "markdown",
   "id": "decreased-cattle",
   "metadata": {},
   "source": [
    "Part 6:\n",
    "---\n",
    "Create binary images based on threshold 100"
   ]
  },
  {
   "cell_type": "code",
   "execution_count": 9,
   "id": "unlikely-contact",
   "metadata": {},
   "outputs": [],
   "source": [
    "threshold = 100\n",
    "binary_images = []\n",
    "for image in images[:10000]:\n",
    "    bimage = []\n",
    "    for pixel in image:\n",
    "        if pixel >= threshold:\n",
    "            bimage.append(255)\n",
    "        else:\n",
    "            bimage.append(0)\n",
    "    binary_images.append(bimage)"
   ]
  },
  {
   "cell_type": "code",
   "execution_count": 10,
   "id": "understanding-newport",
   "metadata": {},
   "outputs": [
    {
     "data": {
      "text/plain": [
       "array([[ 95,   1,   0,   0,   1,   0,   1,   0,   0,   0],\n",
       "       [  0, 103,   1,   2,   0,   0,   0,   0,   0,   0],\n",
       "       [  2,   1, 100,   4,   4,   0,   1,   0,   2,   0],\n",
       "       [  1,   1,   3,  87,   0,   1,   0,   1,   4,   0],\n",
       "       [  1,   0,   0,   0,  98,   0,   1,   1,   1,   0],\n",
       "       [  1,   1,   3,   4,   0,  87,   0,   0,   1,   1],\n",
       "       [  0,   0,   1,   0,   0,   0,  76,   0,   0,   0],\n",
       "       [  0,   0,   0,   0,   1,   0,   0,  91,   1,   2],\n",
       "       [  1,   1,   2,   3,   1,   2,   1,   0,  98,   0],\n",
       "       [  0,   0,   0,   0,   6,   0,   0,   4,   2,  91]])"
      ]
     },
     "execution_count": 10,
     "metadata": {},
     "output_type": "execute_result"
    }
   ],
   "source": [
    "testX = [np.array(image).reshape(1, -1) for image in images[20000:21000]]\n",
    "clf.fit(images[:10000], labels[:10000])\n",
    "predicted = [int(clf.predict(x)) for x in testX]\n",
    "true = list(int(y) for y in labels[20000:21000])\n",
    "r6 = [x == y for x, y in zip(predicted, true)]\n",
    "\n",
    "confusion_matrix(true, predicted)"
   ]
  },
  {
   "cell_type": "markdown",
   "id": "logical-batch",
   "metadata": {},
   "source": [
    "Part 7:\n",
    "---\n"
   ]
  },
  {
   "cell_type": "code",
   "execution_count": 11,
   "id": "accessible-cardiff",
   "metadata": {},
   "outputs": [
    {
     "name": "stdout",
     "output_type": "stream",
     "text": [
      "Accuracy\n",
      "Part 1: \t\t\t0.9\n",
      "Part 2: \t\t\t0.93\n",
      "Part 3: \t\t\t0.926\n",
      "Part 5 - RBF: \t\t\t0.956\n",
      "Part 5 - Polynomial: \t\t0.95\n",
      "Part 5 - Sigmoid: \t\t0.95\n",
      "Part 6: \t\t\t0.926\n"
     ]
    }
   ],
   "source": [
    "print(\"Accuracy\")\n",
    "print(f\"Part 1: \\t\\t\\t{sum(r1) / len(r1)}\")\n",
    "print(f\"Part 2: \\t\\t\\t{sum(r2) / len(r2)}\")\n",
    "print(f\"Part 3: \\t\\t\\t{sum(r3) / len(r3)}\")\n",
    "print(f\"Part 5 - RBF: \\t\\t\\t{sum(r5r) / len(r5r)}\")\n",
    "print(f\"Part 5 - Polynomial: \\t\\t{sum(r5p) / len(r5p)}\")\n",
    "print(f\"Part 5 - Sigmoid: \\t\\t{sum(r5s) / len(r5s)}\")\n",
    "print(f\"Part 6: \\t\\t\\t{sum(r6) / len(r6)}\")"
   ]
  }
 ],
 "metadata": {
  "kernelspec": {
   "display_name": "Python 3",
   "language": "python",
   "name": "python3"
  },
  "language_info": {
   "codemirror_mode": {
    "name": "ipython",
    "version": 3
   },
   "file_extension": ".py",
   "mimetype": "text/x-python",
   "name": "python",
   "nbconvert_exporter": "python",
   "pygments_lexer": "ipython3",
   "version": "3.8.2"
  }
 },
 "nbformat": 4,
 "nbformat_minor": 5
}
